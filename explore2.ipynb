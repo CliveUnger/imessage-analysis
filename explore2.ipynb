{
 "cells": [
  {
   "cell_type": "code",
   "execution_count": null,
   "metadata": {},
   "outputs": [],
   "source": [
    "import pandas as pd\n",
    "import numpy as np\n",
    "import sqlite3\n",
    "import emoji"
   ]
  },
  {
   "cell_type": "code",
   "execution_count": null,
   "metadata": {},
   "outputs": [],
   "source": [
    "msg_df = pd.read_sql(\"select * FROM message\", sqlite3.connect(\"chat_denormalized.db\"))\n",
    "msg_df['text'] = msg_df['attributedText']\n",
    "msg_df.head()"
   ]
  },
  {
   "cell_type": "code",
   "execution_count": null,
   "metadata": {},
   "outputs": [],
   "source": [
    "# Replace null text with empty string\n",
    "msg_df['text'].fillna('', inplace=True)"
   ]
  },
  {
   "cell_type": "code",
   "execution_count": null,
   "metadata": {},
   "outputs": [],
   "source": [
    "# Count the number of messages send by each Sender, only count the text column, order by count\n",
    "msg_df.groupby('Sender').count().sort_values('text', ascending=False)['text']\n"
   ]
  },
  {
   "cell_type": "code",
   "execution_count": null,
   "metadata": {},
   "outputs": [],
   "source": [
    "# Message Types\n",
    "message_types = {\n",
    "    0: 'Text',\n",
    "    2: 'Sticker?',\n",
    "    3: 'iMessage App',\n",
    "    1000: 'Photo'\n",
    "}\n",
    "# Using the message_types dictionary, create a new column called MessageType from the associated_message_type column, if the value is between 2000 an 2005 or 3000 and 3005, the MessageType is 'Reaction'\n",
    "msg_df['MessageType'] = msg_df['associated_message_type'].apply(lambda x: message_types.get(x, 'Reaction') if (x >= 2000 and x <= 2005) or (x >= 3000 and x <= 3005) else message_types.get(x, 'Unknown'))"
   ]
  },
  {
   "cell_type": "code",
   "execution_count": null,
   "metadata": {},
   "outputs": [],
   "source": [
    "msg_df.groupby('MessageType')['text'].count()"
   ]
  },
  {
   "cell_type": "code",
   "execution_count": null,
   "metadata": {},
   "outputs": [],
   "source": [
    "# Map of reation type to its name\n",
    "reaction_names = {\n",
    "    2000: 'Loved',\n",
    "    2001: 'Liked',\n",
    "    2002: 'Disliked',\n",
    "    2003: 'Laughed at',\n",
    "    2004: 'Emphasized',\n",
    "    2005: 'Questioned',\n",
    "    3000: 'Removed a heart',\n",
    "    3001: 'Removed a like',\n",
    "    3002: 'Removed a dislike',\n",
    "    3003: 'Removed a laugh',\n",
    "    3004: 'Removed an emphasis',\n",
    "    3005: 'Removed a question',\n",
    "}\n",
    "# Using the reaction_names dictionary, create a new column called Reaction from the associated_message_type column\n",
    "msg_df['ReactionType'] = msg_df['associated_message_type'].map(reaction_names)"
   ]
  },
  {
   "cell_type": "code",
   "execution_count": null,
   "metadata": {},
   "outputs": [],
   "source": [
    "# Now count the number of times each reaction was used\n",
    "msg_df.groupby('ReactionType')['text'].count()"
   ]
  },
  {
   "cell_type": "code",
   "execution_count": null,
   "metadata": {},
   "outputs": [],
   "source": [
    "# Find the Sender who sends the most reactions, order by count\n",
    "msg_df[msg_df['ReactionType'].notnull()].groupby('Sender')['ReactionType'].count().sort_values(ascending=False)"
   ]
  },
  {
   "cell_type": "code",
   "execution_count": null,
   "metadata": {},
   "outputs": [],
   "source": [
    "for reaction_type, reaction_name in reaction_names.items():\n",
    "    print(reaction_name)\n",
    "    print(msg_df[(msg_df['ReactionType'].notnull()) & (msg_df['associated_message_type'] == reaction_type)].groupby('Sender')['text'].count().sort_values(ascending=False))\n",
    "    print()"
   ]
  },
  {
   "cell_type": "code",
   "execution_count": null,
   "metadata": {},
   "outputs": [],
   "source": [
    "# all messsages find who sends the most words, order by count\n",
    "msg_df['word_count'] = msg_df['text'].apply(lambda x: len(x.split()))\n",
    "msg_df.groupby('Sender')['word_count'].sum().sort_values(ascending=False).head(20)\n"
   ]
  },
  {
   "cell_type": "code",
   "execution_count": null,
   "metadata": {},
   "outputs": [],
   "source": [
    "# For all message find who sends the most emojis, order by count\n",
    "msg_df['emoji_count'] = msg_df['text'].apply(lambda x: sum([emoji.is_emoji(c) for c in x]))\n",
    "msg_df.groupby('Sender')['emoji_count'].sum().sort_values(ascending=False).head(20)\n"
   ]
  },
  {
   "cell_type": "code",
   "execution_count": null,
   "metadata": {},
   "outputs": [],
   "source": [
    "# Get all group chat messages (display_name is not empty string)\n",
    "group_chat_messages = msg_df[msg_df['display_name'] != '']\n",
    "# From group chats, find the top 15 most active group chat, show display_name, group_id and count\n",
    "group_chat_messages.groupby(['display_name', 'group_id']).count().sort_values('text', ascending=False)['text'].head(15)"
   ]
  },
  {
   "cell_type": "code",
   "execution_count": null,
   "metadata": {},
   "outputs": [],
   "source": [
    "# Get all messages for up!, where group_id=F10BB39C-461D-4E72-8D4C-8718998118CF\n",
    "group_up = group_chat_messages[group_chat_messages['group_id'] == 'D82BE2BE-CCCB-43B9-9DCB-49A05EC1D495']\n",
    "# Find the top most active members of up!, show Sender and count\n",
    "group_up.groupby('Sender').count().sort_values('text', ascending=False)['text']\n"
   ]
  },
  {
   "cell_type": "code",
   "execution_count": null,
   "metadata": {},
   "outputs": [],
   "source": [
    "# For group \"up\", find who sends the most reactions, order by count\n",
    "group_up[group_up['ReactionType'].notnull()].groupby('Sender')['ReactionType'].count().sort_values(ascending=False)"
   ]
  },
  {
   "cell_type": "code",
   "execution_count": null,
   "metadata": {},
   "outputs": [],
   "source": [
    "# For group \"up\", find the most reacted message, show text, Sender and count\n",
    "group_up[group_up['ReactionType'].notnull()].groupby(['text', 'Sender']).count().sort_values('ReactionType', ascending=False)['ReactionType']"
   ]
  },
  {
   "cell_type": "code",
   "execution_count": null,
   "metadata": {},
   "outputs": [],
   "source": [
    "# for the up! group, find who sends the most words, order by count\n",
    "group_up.groupby('Sender')['word_count'].sum().sort_values(ascending=False)\n"
   ]
  },
  {
   "cell_type": "code",
   "execution_count": null,
   "metadata": {},
   "outputs": [],
   "source": [
    "# For the up group find who sends the most emojis, order by count\n",
    "group_up.groupby('Sender')['emoji_count'].sum().sort_values(ascending=False)"
   ]
  },
  {
   "cell_type": "code",
   "execution_count": null,
   "metadata": {},
   "outputs": [],
   "source": [
    "# Find the most popular emoji in the up group, order by count\n",
    "group_up_emoji = group_up[group_up['emoji_count'] > 0]\n",
    "group_up_emoji['text'].apply(lambda x: [c for c in x if emoji.is_emoji(c)]).explode().value_counts()\n"
   ]
  },
  {
   "cell_type": "code",
   "execution_count": null,
   "metadata": {},
   "outputs": [],
   "source": [
    "# For the top 20 users I've chatted with, find the most popular emoji sent by each user in all chats, order by count\n",
    "top_20_senders = msg_df.groupby('Sender').count().sort_values('text', ascending=False).head(20).index\n",
    "top_20_senders_emoji = msg_df[msg_df['Sender'].isin(top_20_senders)]\n",
    "top_20_senders_emoji = top_20_senders_emoji[top_20_senders_emoji['emoji_count'] > 0]\n",
    "top_20_senders_emoji['text'].apply(lambda x: [emoji.demojize(c) for c in x if emoji.is_emoji(c)]).explode().groupby(top_20_senders_emoji['Sender']).value_counts().groupby('Sender').head(1)\n"
   ]
  },
  {
   "cell_type": "code",
   "execution_count": null,
   "metadata": {},
   "outputs": [],
   "source": [
    "# What is the top 5 emojis used by Stephen Jayakar in all chats, order by count\n",
    "stephen_emoji = msg_df[msg_df['Sender'] == 'Andy Chang']\n",
    "stephen_emoji = stephen_emoji[stephen_emoji['emoji_count'] > 0]\n",
    "stephen_emoji['text'].apply(lambda x: [c for c in x if emoji.is_emoji(c)]).explode().value_counts().head(5)\n"
   ]
  },
  {
   "cell_type": "code",
   "execution_count": null,
   "metadata": {},
   "outputs": [],
   "source": [
    "# Find the top 20 emojis used across all chats, order by count\n",
    "all_emoji = msg_df[msg_df['emoji_count'] > 0]\n",
    "all_emoji['text'].apply(lambda x: [c for c in x if emoji.is_emoji(c)]).explode().value_counts().head(20)\n"
   ]
  },
  {
   "cell_type": "code",
   "execution_count": null,
   "metadata": {},
   "outputs": [],
   "source": [
    "# TODO Probablt need to fix emoji encoding for some text"
   ]
  },
  {
   "cell_type": "code",
   "execution_count": null,
   "metadata": {},
   "outputs": [],
   "source": [
    "# find the top 20 most used words in all chats, order by count\n",
    "all_words = msg_df[msg_df['word_count'] > 0]\n",
    "all_words['text'].apply(lambda x: x.split()).explode().value_counts().head(20)\n"
   ]
  },
  {
   "cell_type": "code",
   "execution_count": null,
   "metadata": {},
   "outputs": [],
   "source": [
    "# Find the top 20 most used words in all chats, excluding reaction message and stop words, order by count\n",
    "from nltk.corpus import stopwords\n",
    "stop_words = set(stopwords.words('english'))\n",
    "all_words = msg_df[msg_df['word_count'] > 0]\n",
    "all_words = all_words[all_words['MessageType'] != 'Reaction']\n",
    "all_words['text'].apply(lambda x: [word for word in x.split() if word.lower() not in stop_words]).explode().value_counts().head(20)"
   ]
  },
  {
   "cell_type": "code",
   "execution_count": null,
   "metadata": {},
   "outputs": [],
   "source": [
    "# Find the top used profane words in all chats, order by count. exclude reaction messages\n",
    "from better_profanity import profanity\n",
    "profane_words = msg_df[msg_df['word_count'] > 0]\n",
    "profane_words = profane_words[profane_words['MessageType'] != 'Reaction']\n",
    "profane_words['text'].apply(lambda x: [word.lower() for word in x.split() if profanity.contains_profanity(word.lower())]).explode().value_counts().head(50)\n"
   ]
  },
  {
   "cell_type": "code",
   "execution_count": null,
   "metadata": {},
   "outputs": [],
   "source": [
    "profane_words = msg_df[msg_df['word_count'] > 0]\n",
    "profane_words = profane_words[profane_words['MessageType'] != 'Reaction']\n",
    "profane_words['text'].apply(lambda x: [word.lower() for word in x.split() if word.lower() in profanity_list]).explode().value_counts().head(50)"
   ]
  },
  {
   "cell_type": "code",
   "execution_count": null,
   "metadata": {},
   "outputs": [],
   "source": [
    "# From the up group, find who uses the most words from profanity_list, grouped by Sender\n",
    "profane_words_up = group_up[group_up['word_count'] > 0]\n",
    "profane_words_up = profane_words_up[profane_words_up['MessageType'] != 'Reaction']\n",
    "profane_words_up['text'].apply(lambda x: [word.lower() for word in x.split() if word.lower() in profanity_list]).explode().groupby(profane_words_up['Sender']).value_counts().groupby('Sender').sum().sort_values(ascending=False)\n"
   ]
  },
  {
   "cell_type": "code",
   "execution_count": null,
   "metadata": {},
   "outputs": [],
   "source": [
    "# From the up group, find who uses the most used word from profanity_list, grouped by Sender\n",
    "profane_words_up = group_up[group_up['word_count'] > 0]\n",
    "profane_words_up = profane_words_up[profane_words_up['MessageType'] != 'Reaction']\n",
    "profane_words_up['text'].apply(lambda x: [word.lower() for word in x.split() if word.lower() in profanity_list]).explode().groupby(profane_words_up['Sender']).value_counts().groupby('Sender').head(1)\n"
   ]
  },
  {
   "cell_type": "code",
   "execution_count": null,
   "metadata": {},
   "outputs": [],
   "source": [
    "# TODO export to file"
   ]
  }
 ],
 "metadata": {
  "kernelspec": {
   "display_name": "Python 3",
   "language": "python",
   "name": "python3"
  },
  "language_info": {
   "codemirror_mode": {
    "name": "ipython",
    "version": 3
   },
   "file_extension": ".py",
   "mimetype": "text/x-python",
   "name": "python",
   "nbconvert_exporter": "python",
   "pygments_lexer": "ipython3",
   "version": "3.11.9"
  }
 },
 "nbformat": 4,
 "nbformat_minor": 2
}
