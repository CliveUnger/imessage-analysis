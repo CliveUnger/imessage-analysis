{
 "cells": [
  {
   "cell_type": "code",
   "execution_count": null,
   "metadata": {},
   "outputs": [],
   "source": [
    "import pandas as pd\n",
    "import numpy as np\n",
    "import sqlite3"
   ]
  },
  {
   "cell_type": "code",
   "execution_count": null,
   "metadata": {},
   "outputs": [],
   "source": [
    "# Open sqlite file chat.db and read data from table messages into dataframe\n",
    "group_chat_query = \"\"\"\n",
    "select \n",
    "    datetime((m.date / 1000000000) + 978307200, 'unixepoch', 'localtime') as TextDate,\n",
    "    m.text,\n",
    "    m.handle_id,\n",
    "    h.id as \"Sender\",\n",
    "    m.service,\n",
    "    m.is_from_me,\n",
    "    cmj.message_id,\n",
    "    cmj.chat_id,\n",
    "    c.service_name,\n",
    "    c.group_id,\n",
    "    m.associated_message_type,\n",
    "    m.associated_message_guid,\n",
    "    m.attributedBody\n",
    "from message m \n",
    "left join chat_message_join cmj on m.ROWID = cmj.message_id  \n",
    "left join chat c on cmj.chat_id = c.ROWID\n",
    "left join handle h on m.handle_id = h.ROWID \n",
    "where c.group_id = 'F10BB39C-461D-4E72-8D4C-8718998118CF'\n",
    "and m.service = c.service_name\n",
    "order by \"date\" ASC\n",
    "\"\"\"\n",
    "msg_df = pd.read_sql_query(group_chat_query, sqlite3.connect(\"chat.db\"))\n"
   ]
  },
  {
   "cell_type": "code",
   "execution_count": null,
   "metadata": {},
   "outputs": [],
   "source": [
    "\n",
    "msg_df.head()"
   ]
  },
  {
   "cell_type": "code",
   "execution_count": null,
   "metadata": {},
   "outputs": [],
   "source": [
    "msg_df['attributedBody']"
   ]
  },
  {
   "cell_type": "code",
   "execution_count": null,
   "metadata": {},
   "outputs": [],
   "source": [
    "# Deserialize the attributedBody (NSAttributedString) column\n",
    "from Foundation import NSData, NSUnarchiver, NSAttributedString\n",
    "\n",
    "def deserialize_attributed_string(blob_data):\n",
    "    # Handle when blob_data is None\n",
    "    if blob_data is None:\n",
    "        return None\n",
    "    \n",
    "    ns_data = NSData.dataWithBytes_length_(blob_data, len(blob_data))\n",
    "    if ns_data is None:\n",
    "        raise ValueError(\"Unable to create NSData from blob\")\n",
    "\n",
    "    attributed_string = NSUnarchiver.unarchiveObjectWithData_(ns_data)\n",
    "    if not isinstance(attributed_string, NSAttributedString):\n",
    "        raise ValueError(\"Deserialized object is not an NSAttributedString\")\n",
    "\n",
    "    return attributed_string.string()\n",
    "\n",
    "# Use the deserialize_attributed_string function to deserialize the attributedBody column\n",
    "msg_df['text'] = msg_df['attributedBody'].apply(deserialize_attributed_string)\n"
   ]
  },
  {
   "cell_type": "code",
   "execution_count": null,
   "metadata": {},
   "outputs": [],
   "source": [
    "# Show rows where text is null, but attributedBody is not null\n",
    "# Ahow only the text and attributedBody columns\n",
    "msg_df[msg_df['text'].isnull() & msg_df['attributedBody'].notnull()][['text', 'attributedBody']]"
   ]
  },
  {
   "cell_type": "code",
   "execution_count": null,
   "metadata": {},
   "outputs": [],
   "source": [
    "# Replace null text with empty string\n",
    "msg_df['text'].fillna('', inplace=True)"
   ]
  },
  {
   "cell_type": "code",
   "execution_count": null,
   "metadata": {},
   "outputs": [],
   "source": [
    "# Replace NaN in Sender column with value 2547221897\n",
    "msg_df['Sender'].fillna('+12547221897', inplace=True)"
   ]
  },
  {
   "cell_type": "code",
   "execution_count": null,
   "metadata": {},
   "outputs": [],
   "source": [
    "# Map Sender column to names where +1254... is Clive, +1757... Yousef, and +1408... is Daniel\n",
    "msg_df['Sender'] = msg_df['Sender'].map({'+12547221897': 'Clive', '+17576606447': 'Yousef', '+14088328217': 'Daniel'})"
   ]
  },
  {
   "cell_type": "code",
   "execution_count": null,
   "metadata": {},
   "outputs": [],
   "source": [
    "# Count the number of messages send by each Sender, only count the text column\n",
    "msg_df.groupby('Sender')['text'].count()"
   ]
  },
  {
   "cell_type": "code",
   "execution_count": null,
   "metadata": {},
   "outputs": [],
   "source": [
    "# Get values in the 'text' column that start with a single word, a space then a phrase in double-quotes such as 'Liked \"Hello World\"'\n",
    "msg_df[msg_df['text'].str.contains(r'^\\w+\\s“')]"
   ]
  },
  {
   "cell_type": "code",
   "execution_count": null,
   "metadata": {},
   "outputs": [],
   "source": [
    "# Value rows where the text column starts with one of the following words: Liked, Loved, Laughed at, Emphasized, Questioned\n",
    "msg_df[msg_df['text'].str.contains(r'^Liked|^Loved|^Laughed at|^Emphasized|^Questioned|^Disliked')]\n",
    "# Now create a new column based on the word that was found. So if the text column starts with 'Liked', the new column should have the value 'Liked'\n",
    "msg_df['Reaction'] = msg_df['text'].str.extract(r'^(Liked|Loved|Laughed at|Emphasized|Questioned|^Disliked)')\n",
    "# Show me the rows with Reactions\n",
    "msg_df[msg_df['Reaction'].notnull()]"
   ]
  },
  {
   "cell_type": "code",
   "execution_count": null,
   "metadata": {},
   "outputs": [],
   "source": [
    "# Now count the number of times each reaction was used\n",
    "msg_df.groupby('Reaction')['text'].count()"
   ]
  },
  {
   "cell_type": "code",
   "execution_count": null,
   "metadata": {},
   "outputs": [],
   "source": [
    "# List all unique associated_message_type values\n",
    "msg_df['associated_message_type'].unique()"
   ]
  },
  {
   "cell_type": "code",
   "execution_count": null,
   "metadata": {},
   "outputs": [],
   "source": [
    "# Get the text, Reaction, and associated_message_type for each row where there is a reaction\n",
    "msg_df[msg_df['Reaction'].notnull()][['text', 'Reaction', 'associated_message_type']]"
   ]
  },
  {
   "cell_type": "code",
   "execution_count": null,
   "metadata": {},
   "outputs": [],
   "source": [
    "# Get unique reaction and associated_message_type combinations and their counts\n",
    "msg_df[msg_df['Reaction'].notnull()].groupby(['Reaction', 'associated_message_type'])['text'].count()"
   ]
  },
  {
   "cell_type": "code",
   "execution_count": null,
   "metadata": {},
   "outputs": [],
   "source": [
    "# OK so now we know that associated_message_type indicates the type of reaction. \n",
    "# It seems 2000 = Loved, 2001 = Liked, 2002 = Disliked, 2003 = Laughed at, 2004 = Emphasized, 2005 = Questioned\n",
    "# There are some where there associated_message_type is 0, but I think that means its not a reaction message (regex captured too much)"
   ]
  },
  {
   "cell_type": "code",
   "execution_count": null,
   "metadata": {},
   "outputs": [],
   "source": [
    "# Find the Sender who sends the most reactions\n",
    "msg_df[msg_df['Reaction'].notnull()].groupby('Sender')['text'].count()"
   ]
  },
  {
   "cell_type": "code",
   "execution_count": null,
   "metadata": {},
   "outputs": [],
   "source": [
    "# For each reaction type, find the Sender who sends the most of that reaction\n",
    "reaction_names = {\n",
    "    2000: 'Loved',\n",
    "    2001: 'Liked',\n",
    "    2002: 'Disliked',\n",
    "    2003: 'Laughed at',\n",
    "    2004: 'Emphasized',\n",
    "    2005: 'Questioned'\n",
    "}\n",
    "for reaction_type, reaction_name in reaction_names.items():\n",
    "    print(reaction_name)\n",
    "    print(msg_df[(msg_df['Reaction'].notnull()) & (msg_df['associated_message_type'] == reaction_type)].groupby('Sender')['text'].count().sort_values(ascending=False))\n",
    "    print()"
   ]
  },
  {
   "cell_type": "code",
   "execution_count": null,
   "metadata": {},
   "outputs": [],
   "source": [
    "# Next we need to use the message_id and associated_message_guid to find the message that was reacted to\n",
    "# We can use the message_id to find the message that was reacted to\n",
    "# We can use the associated_message_guid to find the reaction message\n",
    "# We can use the associated_message_type to find the type of reaction\n",
    "# We can use the chat_id to find the group chat\n",
    "# We can use the handle_id to find the Sender\n"
   ]
  },
  {
   "cell_type": "markdown",
   "metadata": {},
   "source": [
    "Ok another case I just found is \"React an image\". It's always \"an image\". not super interesting but I'll come back to it.\n",
    "\n",
    "Also found a case for \"Removed a Reaction\". I saw there are 300x types, that's probably what that means"
   ]
  },
  {
   "cell_type": "code",
   "execution_count": null,
   "metadata": {},
   "outputs": [],
   "source": [
    "# Print datatype of each column\n",
    "msg_df.dtypes"
   ]
  },
  {
   "cell_type": "code",
   "execution_count": null,
   "metadata": {},
   "outputs": [],
   "source": []
  },
  {
   "cell_type": "code",
   "execution_count": null,
   "metadata": {},
   "outputs": [],
   "source": []
  }
 ],
 "metadata": {
  "kernelspec": {
   "display_name": "Python 3",
   "language": "python",
   "name": "python3"
  },
  "language_info": {
   "codemirror_mode": {
    "name": "ipython",
    "version": 3
   },
   "file_extension": ".py",
   "mimetype": "text/x-python",
   "name": "python",
   "nbconvert_exporter": "python",
   "pygments_lexer": "ipython3",
   "version": "3.12.2"
  }
 },
 "nbformat": 4,
 "nbformat_minor": 2
}
